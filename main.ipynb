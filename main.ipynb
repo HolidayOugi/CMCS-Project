{
 "cells": [
  {
   "cell_type": "code",
   "id": "initial_id",
   "metadata": {
    "collapsed": true,
    "ExecuteTime": {
     "end_time": "2024-10-04T15:33:49.242162Z",
     "start_time": "2024-10-04T15:33:49.048417Z"
    }
   },
   "source": [
    "import mesa\n",
    "import random\n",
    "\n",
    "# Data visualization tools.\n",
    "import seaborn as sns\n",
    "\n",
    "# Has multi-dimensional arrays and matrices. Has a large collection of\n",
    "# mathematical functions to operate on these arrays.\n",
    "import numpy as np\n",
    "\n",
    "# Data manipulation and analysis.\n",
    "import pandas as pd"
   ],
   "outputs": [],
   "execution_count": 1
  },
  {
   "metadata": {
    "ExecuteTime": {
     "end_time": "2024-10-04T15:33:49.249668Z",
     "start_time": "2024-10-04T15:33:49.245170Z"
    }
   },
   "cell_type": "code",
   "source": [
    "class MaleAdult(mesa.Agent):\n",
    "\n",
    "    def __init__(self, unique_id, model):\n",
    "        # Pass the parameters to the parent class.\n",
    "        super().__init__(unique_id, model)\n",
    "\n",
    "        self.infected = False\n",
    "        self.days = 0\n",
    "        \n",
    "    def step(self):\n",
    "        if self.infected:\n",
    "            a = random.randint(1,100)\n",
    "            if a <= 20:\n",
    "                other_agent = self.random.choice(self.model.schedule.agents)\n",
    "                if other_agent is not None and other_agent.infected == False:\n",
    "                    print(f\"I'm agent {str(self.unique_id)} and I spread the infection to {str(other_agent.unique_id)}\")\n",
    "                    other_agent.infected = True\n",
    "                    other_agent.days = 5\n",
    "                    self.model.num_infected += 1\n",
    "            \n",
    "            print(f\"I'm agent {str(self.unique_id)} and i'm infected, let's see if I die\")\n",
    "            b = random.randint(1,100)\n",
    "            if b <= 5:\n",
    "                print(f\"I'm agent {str(self.unique_id)} and I'm dead\")\n",
    "                self.model.kill_agents.append(self)\n",
    "            else:\n",
    "                self.days -= 1\n",
    "                if self.days == 0:\n",
    "                    print(f\"I'm agent {str(self.unique_id)} and I'm cured\")\n",
    "                    self.infected = False\n",
    "                    self.model.num_infected -= 1\n",
    "                "
   ],
   "id": "da7f9782e39d038c",
   "outputs": [],
   "execution_count": 2
  },
  {
   "metadata": {
    "ExecuteTime": {
     "end_time": "2024-10-04T15:33:49.348940Z",
     "start_time": "2024-10-04T15:33:49.344853Z"
    }
   },
   "cell_type": "code",
   "source": [
    "class AgentModel(mesa.Model):\n",
    "    \"\"\"A model with some number of agents.\"\"\"\n",
    "\n",
    "    def __init__(self, N, I):\n",
    "        super().__init__()\n",
    "        self.num_agents = N\n",
    "        self.start_infected = I\n",
    "        self.kill_agents = []\n",
    "        self.num_infected = I\n",
    "        self.schedule = mesa.time.RandomActivation(self)\n",
    "        # Create agents\n",
    "        for i in range(self.num_agents):\n",
    "            a = MaleAdult(i, self)\n",
    "            if self.start_infected > 0:\n",
    "                a.infected = True\n",
    "                a.days = 5\n",
    "                self.start_infected-= 1\n",
    "            self.schedule.add(a)\n",
    "    \n",
    "    def step(self):\n",
    "        self.schedule.step()\n",
    "        for x in self.kill_agents:\n",
    "            self.schedule.remove(x)\n",
    "            self.kill_agents.remove(x)\n",
    "            self.num_infected -= 1"
   ],
   "id": "7610f6ddfbae4512",
   "outputs": [],
   "execution_count": 3
  },
  {
   "metadata": {
    "ExecuteTime": {
     "end_time": "2024-10-04T15:33:49.359347Z",
     "start_time": "2024-10-04T15:33:49.356181Z"
    }
   },
   "cell_type": "code",
   "source": "starter_model = AgentModel(10, 1)",
   "id": "26543cdffdde4343",
   "outputs": [
    {
     "name": "stderr",
     "output_type": "stream",
     "text": [
      "C:\\Users\\Ougi\\AppData\\Local\\Temp\\ipykernel_22304\\1688446501.py:10: DeprecationWarning: The time module and all its Schedulers are deprecated and will be removed in a future version. They can be replaced with AgentSet functionality. See the migration guide for details. https://mesa.readthedocs.io/en/latest/migration_guide.html#time-and-schedulers\n",
      "  self.schedule = mesa.time.RandomActivation(self)\n",
      "C:\\Users\\Ougi\\AppData\\Local\\Temp\\ipykernel_22304\\3256797278.py:5: DeprecationWarning: unique ids are assigned automatically to Agents in Mesa 3. The use of custom unique_id is deprecated. Only input a model when calling `super()__init__(model)`. The unique_id inputted is not used.\n",
      "  super().__init__(unique_id, model)\n"
     ]
    }
   ],
   "execution_count": 4
  },
  {
   "metadata": {
    "ExecuteTime": {
     "end_time": "2024-10-04T15:33:49.433078Z",
     "start_time": "2024-10-04T15:33:49.427388Z"
    }
   },
   "cell_type": "code",
   "source": [
    "while starter_model.num_infected > 0:\n",
    "    starter_model.step()\n",
    "    print(\"Number of agents: \" + str(starter_model.schedule.get_agent_count()))\n",
    "    print(\"Number of infected agents: \" + str(starter_model.num_infected))"
   ],
   "id": "7b78e51ec3f29a64",
   "outputs": [
    {
     "name": "stdout",
     "output_type": "stream",
     "text": [
      "I'm agent 1 and i'm infected, let's see if I die\n",
      "Number of agents: 10\n",
      "Number of infected agents: 1\n",
      "I'm agent 1 and i'm infected, let's see if I die\n",
      "Number of agents: 10\n",
      "Number of infected agents: 1\n",
      "I'm agent 1 and i'm infected, let's see if I die\n",
      "Number of agents: 10\n",
      "Number of infected agents: 1\n",
      "I'm agent 1 and i'm infected, let's see if I die\n",
      "Number of agents: 10\n",
      "Number of infected agents: 1\n",
      "I'm agent 1 and I spread the infection to 7\n",
      "I'm agent 1 and i'm infected, let's see if I die\n",
      "I'm agent 1 and I'm cured\n",
      "Number of agents: 10\n",
      "Number of infected agents: 1\n",
      "I'm agent 7 and I spread the infection to 4\n",
      "I'm agent 7 and i'm infected, let's see if I die\n",
      "I'm agent 4 and i'm infected, let's see if I die\n",
      "Number of agents: 10\n",
      "Number of infected agents: 2\n",
      "I'm agent 4 and i'm infected, let's see if I die\n",
      "I'm agent 7 and i'm infected, let's see if I die\n",
      "Number of agents: 10\n",
      "Number of infected agents: 2\n",
      "I'm agent 4 and I spread the infection to 10\n",
      "I'm agent 4 and i'm infected, let's see if I die\n",
      "I'm agent 10 and i'm infected, let's see if I die\n",
      "I'm agent 10 and I'm dead\n",
      "I'm agent 7 and i'm infected, let's see if I die\n",
      "Number of agents: 9\n",
      "Number of infected agents: 2\n",
      "I'm agent 4 and i'm infected, let's see if I die\n",
      "I'm agent 7 and i'm infected, let's see if I die\n",
      "Number of agents: 9\n",
      "Number of infected agents: 2\n",
      "I'm agent 7 and I spread the infection to 8\n",
      "I'm agent 7 and i'm infected, let's see if I die\n",
      "I'm agent 7 and I'm cured\n",
      "I'm agent 8 and i'm infected, let's see if I die\n",
      "I'm agent 4 and i'm infected, let's see if I die\n",
      "I'm agent 4 and I'm cured\n",
      "Number of agents: 9\n",
      "Number of infected agents: 1\n",
      "I'm agent 8 and i'm infected, let's see if I die\n",
      "Number of agents: 9\n",
      "Number of infected agents: 1\n",
      "I'm agent 8 and i'm infected, let's see if I die\n",
      "Number of agents: 9\n",
      "Number of infected agents: 1\n",
      "I'm agent 8 and i'm infected, let's see if I die\n",
      "Number of agents: 9\n",
      "Number of infected agents: 1\n",
      "I'm agent 8 and I spread the infection to 5\n",
      "I'm agent 8 and i'm infected, let's see if I die\n",
      "I'm agent 8 and I'm cured\n",
      "I'm agent 5 and I spread the infection to 7\n",
      "I'm agent 5 and i'm infected, let's see if I die\n",
      "Number of agents: 9\n",
      "Number of infected agents: 2\n",
      "I'm agent 5 and i'm infected, let's see if I die\n",
      "I'm agent 7 and I spread the infection to 2\n",
      "I'm agent 7 and i'm infected, let's see if I die\n",
      "Number of agents: 9\n",
      "Number of infected agents: 3\n",
      "I'm agent 5 and i'm infected, let's see if I die\n",
      "I'm agent 7 and i'm infected, let's see if I die\n",
      "I'm agent 2 and i'm infected, let's see if I die\n",
      "Number of agents: 9\n",
      "Number of infected agents: 3\n",
      "I'm agent 2 and i'm infected, let's see if I die\n",
      "I'm agent 5 and i'm infected, let's see if I die\n",
      "I'm agent 7 and i'm infected, let's see if I die\n",
      "Number of agents: 9\n",
      "Number of infected agents: 3\n",
      "I'm agent 7 and I spread the infection to 3\n",
      "I'm agent 7 and i'm infected, let's see if I die\n",
      "I'm agent 2 and i'm infected, let's see if I die\n",
      "I'm agent 5 and i'm infected, let's see if I die\n",
      "I'm agent 5 and I'm cured\n",
      "I'm agent 3 and i'm infected, let's see if I die\n",
      "Number of agents: 9\n",
      "Number of infected agents: 3\n",
      "I'm agent 3 and i'm infected, let's see if I die\n",
      "I'm agent 7 and i'm infected, let's see if I die\n",
      "I'm agent 7 and I'm cured\n",
      "I'm agent 2 and i'm infected, let's see if I die\n",
      "Number of agents: 9\n",
      "Number of infected agents: 2\n",
      "I'm agent 3 and i'm infected, let's see if I die\n",
      "I'm agent 2 and i'm infected, let's see if I die\n",
      "I'm agent 2 and I'm cured\n",
      "Number of agents: 9\n",
      "Number of infected agents: 1\n",
      "I'm agent 3 and i'm infected, let's see if I die\n",
      "Number of agents: 9\n",
      "Number of infected agents: 1\n",
      "I'm agent 3 and i'm infected, let's see if I die\n",
      "I'm agent 3 and I'm cured\n",
      "Number of agents: 9\n",
      "Number of infected agents: 0\n"
     ]
    }
   ],
   "execution_count": 5
  },
  {
   "metadata": {
    "ExecuteTime": {
     "end_time": "2024-10-04T15:33:49.528151Z",
     "start_time": "2024-10-04T15:33:49.525320Z"
    }
   },
   "cell_type": "code",
   "source": "",
   "id": "a1f3e3ff54f4639b",
   "outputs": [],
   "execution_count": null
  },
  {
   "metadata": {
    "ExecuteTime": {
     "end_time": "2024-10-04T15:33:49.551022Z",
     "start_time": "2024-10-04T15:33:49.546904Z"
    }
   },
   "cell_type": "code",
   "source": "",
   "id": "3f3db9e9c1006a80",
   "outputs": [],
   "execution_count": null
  }
 ],
 "metadata": {
  "kernelspec": {
   "display_name": "Python 3",
   "language": "python",
   "name": "python3"
  },
  "language_info": {
   "codemirror_mode": {
    "name": "ipython",
    "version": 2
   },
   "file_extension": ".py",
   "mimetype": "text/x-python",
   "name": "python",
   "nbconvert_exporter": "python",
   "pygments_lexer": "ipython2",
   "version": "2.7.6"
  }
 },
 "nbformat": 4,
 "nbformat_minor": 5
}
