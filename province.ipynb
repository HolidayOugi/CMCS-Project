{
 "cells": [
  {
   "metadata": {
    "ExecuteTime": {
     "end_time": "2024-10-04T17:17:29.788249Z",
     "start_time": "2024-10-04T17:17:29.785649Z"
    }
   },
   "cell_type": "code",
   "source": "province_csv = \"R16_LE.csv\"",
   "id": "4ea8c053b7ead5a4",
   "outputs": [],
   "execution_count": 1
  },
  {
   "cell_type": "code",
   "id": "initial_id",
   "metadata": {
    "collapsed": true,
    "ExecuteTime": {
     "end_time": "2024-10-04T17:17:30.428947Z",
     "start_time": "2024-10-04T17:17:29.790256Z"
    }
   },
   "source": [
    "import pandas as pd\n",
    "import networkx as nx\n",
    "import pickle\n",
    "import matplotlib.pyplot as plt\n",
    "\n",
    "df = pd.read_csv(\"Data/comuni.csv\")\n",
    "df2 = pd.read_csv(f\"Data/{province_csv}\", sep=';')"
   ],
   "outputs": [],
   "execution_count": 2
  },
  {
   "metadata": {
    "ExecuteTime": {
     "end_time": "2024-10-04T17:17:30.540419Z",
     "start_time": "2024-10-04T17:17:30.525995Z"
    }
   },
   "cell_type": "code",
   "source": [
    "df2 = df2[df2[\"DEST_PROV\"] == df2[\"OR_PROV\"]]\n",
    "province_code = df2[\"DEST_PROV\"].iloc[0]"
   ],
   "id": "91cd66407dcdd093",
   "outputs": [],
   "execution_count": 3
  },
  {
   "metadata": {
    "ExecuteTime": {
     "end_time": "2024-10-04T17:17:30.553131Z",
     "start_time": "2024-10-04T17:17:30.549516Z"
    }
   },
   "cell_type": "code",
   "source": "df = df[df['provincia/codice'] == province_code]",
   "id": "686b6dac7d45e118",
   "outputs": [],
   "execution_count": 4
  },
  {
   "metadata": {
    "ExecuteTime": {
     "end_time": "2024-10-04T17:17:30.571711Z",
     "start_time": "2024-10-04T17:17:30.561501Z"
    }
   },
   "cell_type": "code",
   "source": [
    "df2 = df2.drop(columns = ['OR_DEST', 'OR_REG', 'OR_PROV', 'DEST_REG', 'DEST_PROV', 'TEP_TOT', 'TTP_TOT '])\n",
    "df2 = df2.replace(',', '.', regex=True)\n",
    "df2['KM_TOT'] = df2['KM_TOT'].astype(float)\n",
    "df2 = df2[df2['KM_TOT'] > 0]\n",
    "df = df[['nome', 'codice', 'popolazione']]"
   ],
   "id": "6fd76d5cc57e9936",
   "outputs": [],
   "execution_count": 5
  },
  {
   "metadata": {
    "ExecuteTime": {
     "end_time": "2024-10-04T17:17:30.584188Z",
     "start_time": "2024-10-04T17:17:30.577539Z"
    }
   },
   "cell_type": "code",
   "source": [
    "df2['OR_PROCOM'] = df2['OR_PROCOM'].map(df.set_index('codice')['nome'])\n",
    "df2['DEST_PROCOM'] = df2['DEST_PROCOM'].map(df.set_index('codice')['nome'])\n",
    "df = df.drop(columns = ['codice'])\n",
    "print(df2)"
   ],
   "id": "f02c89a158bb3d85",
   "outputs": [
    {
     "name": "stdout",
     "output_type": "stream",
     "text": [
      "                 OR_PROCOM        DEST_PROCOM  KM_TOT\n",
      "1                 Alessano  Gagliano del Capo     5.9\n",
      "2                 Alessano            Corsano     4.8\n",
      "3                 Alessano           Tiggiano     4.7\n",
      "4                 Alessano            Tricase     7.3\n",
      "5                 Alessano              Salve     6.2\n",
      "...                    ...                ...     ...\n",
      "750496  Presicce-Acquarica             Novoli    78.2\n",
      "750498  Presicce-Acquarica          Squinzano    85.9\n",
      "750499  Presicce-Acquarica   Salice Salentino    79.9\n",
      "750500  Presicce-Acquarica    Campi Salentina    83.6\n",
      "750501  Presicce-Acquarica           Guagnano    83.4\n",
      "\n",
      "[9120 rows x 3 columns]\n"
     ]
    }
   ],
   "execution_count": 6
  },
  {
   "metadata": {
    "ExecuteTime": {
     "end_time": "2024-10-04T17:17:30.660981Z",
     "start_time": "2024-10-04T17:17:30.642636Z"
    }
   },
   "cell_type": "code",
   "source": [
    "G = nx.from_pandas_edgelist(df2, \"OR_PROCOM\", \"DEST_PROCOM\", \"KM_TOT\")\n",
    "population_attr = df.set_index('nome').to_dict(orient = 'index')\n",
    "nx.set_node_attributes(G, population_attr)"
   ],
   "id": "5c53174ecb145c3a",
   "outputs": [],
   "execution_count": 7
  },
  {
   "metadata": {
    "ExecuteTime": {
     "end_time": "2024-10-04T17:17:30.672394Z",
     "start_time": "2024-10-04T17:17:30.667689Z"
    }
   },
   "cell_type": "code",
   "source": [
    "with open('distances.gpickle', 'wb') as f:\n",
    "    pickle.dump(G, f, pickle.HIGHEST_PROTOCOL)"
   ],
   "id": "1642c65c8dd6ccb4",
   "outputs": [],
   "execution_count": 8
  }
 ],
 "metadata": {
  "kernelspec": {
   "display_name": "Python 3",
   "language": "python",
   "name": "python3"
  },
  "language_info": {
   "codemirror_mode": {
    "name": "ipython",
    "version": 2
   },
   "file_extension": ".py",
   "mimetype": "text/x-python",
   "name": "python",
   "nbconvert_exporter": "python",
   "pygments_lexer": "ipython2",
   "version": "2.7.6"
  }
 },
 "nbformat": 4,
 "nbformat_minor": 5
}
