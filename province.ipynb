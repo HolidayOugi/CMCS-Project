{
 "cells": [
  {
   "metadata": {
    "ExecuteTime": {
     "end_time": "2024-10-05T18:23:47.753139Z",
     "start_time": "2024-10-05T18:23:47.750640Z"
    }
   },
   "cell_type": "code",
   "source": "province_csv = \"R15_NA.csv\"",
   "id": "4ea8c053b7ead5a4",
   "outputs": [],
   "execution_count": 1
  },
  {
   "cell_type": "code",
   "id": "initial_id",
   "metadata": {
    "collapsed": true,
    "ExecuteTime": {
     "end_time": "2024-10-05T18:23:48.486882Z",
     "start_time": "2024-10-05T18:23:47.755155Z"
    }
   },
   "source": [
    "import pandas as pd\n",
    "import networkx as nx\n",
    "import pickle\n",
    "\n",
    "df = pd.read_csv(\"Data/comuni.csv\")\n",
    "df2 = pd.read_csv(f\"Data/{province_csv}\", sep=';')\n",
    "df3 = pd.read_csv(\"Data/italy_geo.csv\")"
   ],
   "outputs": [],
   "execution_count": 2
  },
  {
   "metadata": {
    "ExecuteTime": {
     "end_time": "2024-10-05T18:23:48.617512Z",
     "start_time": "2024-10-05T18:23:48.603390Z"
    }
   },
   "cell_type": "code",
   "source": [
    "df2 = df2[df2[\"DEST_PROV\"] == df2[\"OR_PROV\"]]\n",
    "province_code = df2[\"DEST_PROV\"].iloc[0]"
   ],
   "id": "91cd66407dcdd093",
   "outputs": [],
   "execution_count": 3
  },
  {
   "metadata": {
    "ExecuteTime": {
     "end_time": "2024-10-05T18:23:48.632147Z",
     "start_time": "2024-10-05T18:23:48.627845Z"
    }
   },
   "cell_type": "code",
   "source": "df = df[df['provincia/codice'] == province_code]",
   "id": "686b6dac7d45e118",
   "outputs": [],
   "execution_count": 4
  },
  {
   "metadata": {
    "ExecuteTime": {
     "end_time": "2024-10-05T18:23:48.651117Z",
     "start_time": "2024-10-05T18:23:48.641207Z"
    }
   },
   "cell_type": "code",
   "source": [
    "df2 = df2.drop(columns = ['OR_DEST', 'OR_REG', 'OR_PROV', 'DEST_REG', 'DEST_PROV', 'TEP_TOT', 'TTP_TOT '])\n",
    "df2 = df2.replace(',', '.', regex=True)\n",
    "df2['KM_TOT'] = df2['KM_TOT'].astype(float)\n",
    "df2 = df2[df2['KM_TOT'] > 0]\n",
    "df = df[['nome', 'codice', 'popolazione']]\n"
   ],
   "id": "6fd76d5cc57e9936",
   "outputs": [],
   "execution_count": 5
  },
  {
   "metadata": {
    "ExecuteTime": {
     "end_time": "2024-10-05T18:23:48.666889Z",
     "start_time": "2024-10-05T18:23:48.659294Z"
    }
   },
   "cell_type": "code",
   "source": [
    "df2['OR_PROCOM'] = df2['OR_PROCOM'].map(df.set_index('codice')['nome'])\n",
    "df2['DEST_PROCOM'] = df2['DEST_PROCOM'].map(df.set_index('codice')['nome'])\n",
    "df[\"codice\"] = df[\"codice\"].astype(str).str.lstrip('0')\n",
    "df3 = df3[df3[\"istat\"].astype(str).isin(df[\"codice\"])]\n",
    "df = df.drop(columns = ['codice'])\n",
    "df3 = df3.drop(columns = ['istat'])\n",
    "df3 = df3.drop_duplicates(subset = ['comune'])\n"
   ],
   "id": "f02c89a158bb3d85",
   "outputs": [],
   "execution_count": 6
  },
  {
   "metadata": {
    "ExecuteTime": {
     "end_time": "2024-10-05T18:23:48.688678Z",
     "start_time": "2024-10-05T18:23:48.673510Z"
    }
   },
   "cell_type": "code",
   "source": [
    "G = nx.from_pandas_edgelist(df2, \"OR_PROCOM\", \"DEST_PROCOM\", \"KM_TOT\")\n",
    "population_attr = df.set_index('nome').to_dict(orient = 'index')\n",
    "position_attr = df3.set_index('comune').to_dict(orient = 'index')\n",
    "nx.set_node_attributes(G, population_attr)\n",
    "nx.set_node_attributes(G, position_attr)"
   ],
   "id": "5c53174ecb145c3a",
   "outputs": [],
   "execution_count": 7
  },
  {
   "metadata": {
    "ExecuteTime": {
     "end_time": "2024-10-05T18:23:48.700578Z",
     "start_time": "2024-10-05T18:23:48.696710Z"
    }
   },
   "cell_type": "code",
   "source": [
    "with open('distances.gpickle', 'wb') as f:\n",
    "    pickle.dump(G, f, pickle.HIGHEST_PROTOCOL)"
   ],
   "id": "1642c65c8dd6ccb4",
   "outputs": [],
   "execution_count": 8
  }
 ],
 "metadata": {
  "kernelspec": {
   "display_name": "Python 3",
   "language": "python",
   "name": "python3"
  },
  "language_info": {
   "codemirror_mode": {
    "name": "ipython",
    "version": 2
   },
   "file_extension": ".py",
   "mimetype": "text/x-python",
   "name": "python",
   "nbconvert_exporter": "python",
   "pygments_lexer": "ipython2",
   "version": "2.7.6"
  }
 },
 "nbformat": 4,
 "nbformat_minor": 5
}
