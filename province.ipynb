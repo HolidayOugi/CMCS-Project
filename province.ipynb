{
 "cells": [
  {
   "metadata": {
    "ExecuteTime": {
     "end_time": "2024-10-04T22:47:48.863314Z",
     "start_time": "2024-10-04T22:47:48.860342Z"
    }
   },
   "cell_type": "code",
   "source": "province_csv = \"R09_PI.csv\"",
   "id": "4ea8c053b7ead5a4",
   "outputs": [],
   "execution_count": 1
  },
  {
   "cell_type": "code",
   "id": "initial_id",
   "metadata": {
    "collapsed": true,
    "ExecuteTime": {
     "end_time": "2024-10-04T22:47:49.282776Z",
     "start_time": "2024-10-04T22:47:48.863314Z"
    }
   },
   "source": [
    "import pandas as pd\n",
    "import networkx as nx\n",
    "import pickle\n",
    "\n",
    "df = pd.read_csv(\"Data/comuni.csv\")\n",
    "df2 = pd.read_csv(f\"Data/{province_csv}\", sep=';')\n",
    "df3 = pd.read_csv(\"Data/italy_geo.csv\")"
   ],
   "outputs": [],
   "execution_count": 2
  },
  {
   "metadata": {
    "ExecuteTime": {
     "end_time": "2024-10-04T22:47:49.394182Z",
     "start_time": "2024-10-04T22:47:49.386783Z"
    }
   },
   "cell_type": "code",
   "source": [
    "df2 = df2[df2[\"DEST_PROV\"] == df2[\"OR_PROV\"]]\n",
    "province_code = df2[\"DEST_PROV\"].iloc[0]"
   ],
   "id": "91cd66407dcdd093",
   "outputs": [],
   "execution_count": 3
  },
  {
   "metadata": {
    "ExecuteTime": {
     "end_time": "2024-10-04T22:47:49.407739Z",
     "start_time": "2024-10-04T22:47:49.403933Z"
    }
   },
   "cell_type": "code",
   "source": "df = df[df['provincia/codice'] == province_code]",
   "id": "686b6dac7d45e118",
   "outputs": [],
   "execution_count": 4
  },
  {
   "metadata": {
    "ExecuteTime": {
     "end_time": "2024-10-04T22:47:49.423364Z",
     "start_time": "2024-10-04T22:47:49.417856Z"
    }
   },
   "cell_type": "code",
   "source": [
    "df2 = df2.drop(columns = ['OR_DEST', 'OR_REG', 'OR_PROV', 'DEST_REG', 'DEST_PROV', 'TEP_TOT', 'TTP_TOT '])\n",
    "df2 = df2.replace(',', '.', regex=True)\n",
    "df2['KM_TOT'] = df2['KM_TOT'].astype(float)\n",
    "df2 = df2[df2['KM_TOT'] > 0]\n",
    "df = df[['nome', 'codice', 'popolazione']]"
   ],
   "id": "6fd76d5cc57e9936",
   "outputs": [],
   "execution_count": 5
  },
  {
   "metadata": {
    "ExecuteTime": {
     "end_time": "2024-10-04T22:47:49.435512Z",
     "start_time": "2024-10-04T22:47:49.430036Z"
    }
   },
   "cell_type": "code",
   "source": [
    "df2['OR_PROCOM'] = df2['OR_PROCOM'].map(df.set_index('codice')['nome'])\n",
    "df2['DEST_PROCOM'] = df2['DEST_PROCOM'].map(df.set_index('codice')['nome'])\n",
    "df = df.drop(columns = ['codice'])\n",
    "df3 = df3.drop(columns = ['istat'])\n",
    "df3 = df3.drop_duplicates(subset = ['comune'])"
   ],
   "id": "f02c89a158bb3d85",
   "outputs": [],
   "execution_count": 6
  },
  {
   "metadata": {
    "ExecuteTime": {
     "end_time": "2024-10-04T22:47:54.317235Z",
     "start_time": "2024-10-04T22:47:54.297224Z"
    }
   },
   "cell_type": "code",
   "source": [
    "G = nx.from_pandas_edgelist(df2, \"OR_PROCOM\", \"DEST_PROCOM\", \"KM_TOT\")\n",
    "population_attr = df.set_index('nome').to_dict(orient = 'index')\n",
    "position_attr = df3.set_index('comune').to_dict(orient = 'index')\n",
    "nx.set_node_attributes(G, population_attr)\n",
    "nx.set_node_attributes(G, position_attr)\n",
    "for node in enumerate(G.nodes(data = True)):\n",
    "    print(node)"
   ],
   "id": "5c53174ecb145c3a",
   "outputs": [
    {
     "name": "stdout",
     "output_type": "stream",
     "text": [
      "(0, ('Bientina', {'popolazione': 7766, 'lng': 10.61983755, 'lat': 43.71011358}))\n",
      "(1, ('Calcinaia', {'popolazione': 11684, 'lng': 10.61566661, 'lat': 43.68299475}))\n",
      "(2, ('Vicopisano', {'popolazione': 8479, 'lng': 10.58439105, 'lat': 43.69975486}))\n",
      "(3, ('Buti', {'popolazione': 5773, 'lng': 10.58735644, 'lat': 43.72731222}))\n",
      "(4, ('Santa Maria a Monte', {'popolazione': 12847, 'lng': 10.6923682, 'lat': 43.69866516}))\n",
      "(5, ('Pontedera', {'popolazione': 28061, 'lng': 10.63600988, 'lat': 43.66392507}))\n",
      "(6, ('Cascina', {'popolazione': 43833, 'lng': 10.54927706, 'lat': 43.67654137}))\n",
      "(7, ('Castelfranco di Sotto', {'popolazione': 12904, 'lng': 10.74523981, 'lat': 43.69969607}))\n",
      "(8, ('Ponsacco', {'popolazione': 15237, 'lng': 10.63360648, 'lat': 43.62021159}))\n",
      "(9, (\"Montopoli in Val d'Arno\", {'popolazione': 11167, 'lng': 10.76042631, 'lat': 43.66858781}))\n",
      "(10, ('Calci', {'popolazione': 6409, 'lng': 10.51568636, 'lat': 43.72555225}))\n",
      "(11, (\"Santa Croce sull'Arno\", {'popolazione': 14061, 'lng': 10.77839086, 'lat': 43.71143945}))\n",
      "(12, ('Capannoli', {'popolazione': 6213, 'lng': 10.67864818, 'lat': 43.58386618}))\n",
      "(13, ('Crespina Lorenzana', {'popolazione': 5325, 'lng': 10.561, 'lat': 43.572}))\n",
      "(14, ('Palaia', {'popolazione': 4572, 'lng': 10.77307881, 'lat': 43.60482308}))\n",
      "(15, ('Peccioli', {'popolazione': 4939, 'lng': 10.72104789, 'lat': 43.54800598}))\n",
      "(16, ('San Miniato', {'popolazione': 27585, 'lng': 10.85239053, 'lat': 43.67940707}))\n",
      "(17, ('Casciana Terme Lari', {'popolazione': 12366, 'lng': 10.5935, 'lat': 43.5663}))\n",
      "(18, ('Fauglia', {'popolazione': 3592, 'lng': 10.51604084, 'lat': 43.56700256}))\n",
      "(19, ('San Giuliano Terme', {'popolazione': 31103, 'lng': 10.44248952, 'lat': 43.76334156}))\n",
      "(20, ('Terricciola', {'popolazione': 4511, 'lng': 10.6760384, 'lat': 43.52463915}))\n",
      "(21, ('Pisa', {'popolazione': 85858, 'lng': 10.40127259, 'lat': 43.71553206}))\n",
      "(22, ('Orciano Pisano', {'popolazione': 635, 'lng': 10.51010989, 'lat': 43.49126495}))\n",
      "(23, ('Vecchiano', {'popolazione': 12366, 'lng': 10.38659926, 'lat': 43.78159787}))\n",
      "(24, ('Lajatico', {'popolazione': 1376, 'lng': 10.72851258, 'lat': 43.4750754}))\n",
      "(25, ('Chianni', {'popolazione': 1457, 'lng': 10.64255484, 'lat': 43.48583046}))\n",
      "(26, ('Santa Luce', {'popolazione': 1737, 'lng': 10.56481909, 'lat': 43.47250273}))\n",
      "(27, ('Montecatini Val di Cecina', {'popolazione': 1820, 'lng': 10.74815959, 'lat': 43.39200876}))\n",
      "(28, ('Castellina Marittima', {'popolazione': 1985, 'lng': 10.57548836, 'lat': 43.41197379}))\n",
      "(29, ('Riparbella', {'popolazione': 1631, 'lng': 10.5997036, 'lat': 43.36468323}))\n",
      "(30, ('Montescudaio', {'popolazione': 1958, 'lng': 10.62778699, 'lat': 43.32635373}))\n",
      "(31, ('Guardistallo', {'popolazione': 1254, 'lng': 10.63299137, 'lat': 43.31332535}))\n",
      "(32, ('Casale Marittimo', {'popolazione': 1084, 'lng': 10.61552922, 'lat': 43.29725055}))\n",
      "(33, ('Volterra', {'popolazione': 10689, 'lng': 10.85941327, 'lat': 43.40170812}))\n",
      "(34, ('Pomarance', {'popolazione': 5845, 'lng': 10.87381734, 'lat': 43.30011927}))\n",
      "(35, ('Monteverdi Marittimo', {'popolazione': 778, 'lng': 10.71524937, 'lat': 43.17700523}))\n",
      "(36, ('Castelnuovo di Val di Cecina', {'popolazione': 2290, 'lng': 10.90600651, 'lat': 43.20690066}))\n"
     ]
    }
   ],
   "execution_count": 8
  },
  {
   "metadata": {
    "ExecuteTime": {
     "end_time": "2024-10-04T22:47:49.799481900Z",
     "start_time": "2024-10-04T20:55:07.638976Z"
    }
   },
   "cell_type": "code",
   "source": [
    "with open('distances.gpickle', 'wb') as f:\n",
    "    pickle.dump(G, f, pickle.HIGHEST_PROTOCOL)"
   ],
   "id": "1642c65c8dd6ccb4",
   "outputs": [],
   "execution_count": 8
  }
 ],
 "metadata": {
  "kernelspec": {
   "display_name": "Python 3",
   "language": "python",
   "name": "python3"
  },
  "language_info": {
   "codemirror_mode": {
    "name": "ipython",
    "version": 2
   },
   "file_extension": ".py",
   "mimetype": "text/x-python",
   "name": "python",
   "nbconvert_exporter": "python",
   "pygments_lexer": "ipython2",
   "version": "2.7.6"
  }
 },
 "nbformat": 4,
 "nbformat_minor": 5
}
